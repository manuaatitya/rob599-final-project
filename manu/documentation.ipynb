{
 "cells": [
  {
   "attachments": {},
   "cell_type": "markdown",
   "metadata": {},
   "source": [
    "Documentation for the NeRF Supervision Code\n",
    "\n",
    "Use python 3 as kernel for the jupyter notebook"
   ]
  },
  {
   "cell_type": "code",
   "execution_count": 17,
   "metadata": {},
   "outputs": [
    {
     "name": "stdout",
     "output_type": "stream",
     "text": [
      "pip 20.0.2 from /usr/lib/python3/dist-packages/pip (python 3.8)\n",
      "Requirement already satisfied: virtualenv in /home/manu/.local/lib/python3.8/site-packages (20.21.0)\n",
      "Requirement already satisfied: platformdirs<4,>=2.4 in /home/manu/.local/lib/python3.8/site-packages (from virtualenv) (2.6.2)\n",
      "Requirement already satisfied: distlib<1,>=0.3.6 in /home/manu/.local/lib/python3.8/site-packages (from virtualenv) (0.3.6)\n",
      "Requirement already satisfied: filelock<4,>=3.4.1 in /home/manu/.local/lib/python3.8/site-packages (from virtualenv) (3.10.0)\n",
      "created virtual environment CPython3.8.10.final.0-64 in 3659ms\n",
      "  creator CPython3Posix(dest=/home/manu/UMich/DeepRob/rob599-final-project/manu/final_proj, clear=False, no_vcs_ignore=False, global=False)\n",
      "  seeder FromAppData(download=False, pip=bundle, setuptools=bundle, wheel=bundle, via=copy, app_data_dir=/home/manu/.local/share/virtualenv)\n",
      "    added seed packages: ConfigArgParse==1.5.3, Jinja2==3.1.2, Markdown==3.4.3, MarkupSafe==2.1.2, Pillow==9.4.0, Werkzeug==2.2.3, absl_py==1.4.0, cachetools==5.3.0, certifi==2022.12.7, charset_normalizer==3.1.0, cmake==3.26.1, contourpy==1.0.7, cycler==0.11.0, filelock==3.10.6, fonttools==4.39.2, google_auth==2.16.3, google_auth_oauthlib==0.4.6, grpcio==1.51.3, idna==3.4, imageio==2.26.1, imageio_ffmpeg==0.4.8, importlib_metadata==6.1.0, importlib_resources==5.12.0, kiwisolver==1.4.4, lit==16.0.0, matplotlib==3.7.1, mpmath==1.3.0, networkx==3.0, numpy==1.24.2, nvidia_cublas_cu11==11.10.3.66, nvidia_cuda_cupti_cu11==11.7.101, nvidia_cuda_nvrtc_cu11==11.7.99, nvidia_cuda_runtime_cu11==11.7.99, nvidia_cudnn_cu11==8.5.0.96, nvidia_cufft_cu11==10.9.0.58, nvidia_curand_cu11==10.2.10.91, nvidia_cusolver_cu11==11.4.0.1, nvidia_cusparse_cu11==11.7.4.91, nvidia_nccl_cu11==2.14.3, nvidia_nvtx_cu11==11.7.91, oauthlib==3.2.2, opencv_python==4.7.0.72, packaging==23.0, pip==23.0.1, protobuf==4.22.1, pyasn1==0.4.8, pyasn1_modules==0.2.8, pyparsing==3.0.9, python_dateutil==2.8.2, requests==2.28.2, requests_oauthlib==1.3.1, rsa==4.9, setuptools==67.4.0, six==1.16.0, sympy==1.11.1, tensorboard==2.12.0, tensorboard_data_server==0.7.0, tensorboard_plugin_wit==1.8.1, tqdm==4.65.0, typing_extensions==4.5.0, urllib3==1.26.15, wheel==0.38.4, zipp==3.15.0\n",
      "  activators BashActivator,CShellActivator,FishActivator,NushellActivator,PowerShellActivator,PythonActivator\n",
      "Requirement already satisfied: torch>=1.4.0 in /home/manu/.local/lib/python3.8/site-packages (from -r requirements.txt (line 1)) (1.13.1)\n",
      "Requirement already satisfied: torchvision>=0.2.1 in /home/manu/.local/lib/python3.8/site-packages (from -r requirements.txt (line 2)) (0.15.1)\n",
      "Requirement already satisfied: imageio in /home/manu/.local/lib/python3.8/site-packages (from -r requirements.txt (line 3)) (2.25.1)\n",
      "Requirement already satisfied: imageio-ffmpeg in /home/manu/.local/lib/python3.8/site-packages (from -r requirements.txt (line 4)) (0.4.8)\n",
      "Requirement already satisfied: matplotlib in /usr/lib/python3/dist-packages (from -r requirements.txt (line 5)) (3.1.2)\n",
      "Requirement already satisfied: configargparse in /home/manu/.local/lib/python3.8/site-packages (from -r requirements.txt (line 6)) (1.5.3)\n",
      "Requirement already satisfied: tensorboard>=1.15.0 in /home/manu/.local/lib/python3.8/site-packages (from -r requirements.txt (line 7)) (2.12.0)\n",
      "Requirement already satisfied: tqdm in /home/manu/.local/lib/python3.8/site-packages (from -r requirements.txt (line 8)) (4.64.1)\n",
      "Requirement already satisfied: opencv-python in /home/manu/.local/lib/python3.8/site-packages (from -r requirements.txt (line 9)) (4.7.0.72)\n",
      "Requirement already satisfied: nvidia-cuda-nvrtc-cu11==11.7.99; platform_system == \"Linux\" in /home/manu/.local/lib/python3.8/site-packages (from torch>=1.4.0->-r requirements.txt (line 1)) (11.7.99)\n",
      "Requirement already satisfied: typing-extensions in /home/manu/.local/lib/python3.8/site-packages (from torch>=1.4.0->-r requirements.txt (line 1)) (4.4.0)\n",
      "Requirement already satisfied: nvidia-cublas-cu11==11.10.3.66; platform_system == \"Linux\" in /home/manu/.local/lib/python3.8/site-packages (from torch>=1.4.0->-r requirements.txt (line 1)) (11.10.3.66)\n",
      "Requirement already satisfied: nvidia-cudnn-cu11==8.5.0.96; platform_system == \"Linux\" in /home/manu/.local/lib/python3.8/site-packages (from torch>=1.4.0->-r requirements.txt (line 1)) (8.5.0.96)\n",
      "Requirement already satisfied: nvidia-cuda-runtime-cu11==11.7.99; platform_system == \"Linux\" in /home/manu/.local/lib/python3.8/site-packages (from torch>=1.4.0->-r requirements.txt (line 1)) (11.7.99)\n",
      "Requirement already satisfied: numpy in /home/manu/.local/lib/python3.8/site-packages (from torchvision>=0.2.1->-r requirements.txt (line 2)) (1.24.1)\n",
      "Requirement already satisfied: requests in /home/manu/.local/lib/python3.8/site-packages (from torchvision>=0.2.1->-r requirements.txt (line 2)) (2.28.1)\n",
      "Requirement already satisfied: pillow!=8.3.*,>=5.3.0 in /home/manu/.local/lib/python3.8/site-packages (from torchvision>=0.2.1->-r requirements.txt (line 2)) (9.4.0)\n",
      "Requirement already satisfied: wheel>=0.26 in /usr/lib/python3/dist-packages (from tensorboard>=1.15.0->-r requirements.txt (line 7)) (0.34.2)\n",
      "Requirement already satisfied: absl-py>=0.4 in /home/manu/.local/lib/python3.8/site-packages (from tensorboard>=1.15.0->-r requirements.txt (line 7)) (1.4.0)\n",
      "Requirement already satisfied: protobuf>=3.19.6 in /home/manu/.local/lib/python3.8/site-packages (from tensorboard>=1.15.0->-r requirements.txt (line 7)) (4.22.1)\n",
      "Requirement already satisfied: tensorboard-plugin-wit>=1.6.0 in /home/manu/.local/lib/python3.8/site-packages (from tensorboard>=1.15.0->-r requirements.txt (line 7)) (1.8.1)\n",
      "Requirement already satisfied: google-auth<3,>=1.6.3 in /home/manu/.local/lib/python3.8/site-packages (from tensorboard>=1.15.0->-r requirements.txt (line 7)) (2.16.3)\n",
      "Requirement already satisfied: werkzeug>=1.0.1 in /home/manu/.local/lib/python3.8/site-packages (from tensorboard>=1.15.0->-r requirements.txt (line 7)) (2.2.3)\n",
      "Requirement already satisfied: markdown>=2.6.8 in /home/manu/.local/lib/python3.8/site-packages (from tensorboard>=1.15.0->-r requirements.txt (line 7)) (3.4.3)\n",
      "Requirement already satisfied: setuptools>=41.0.0 in /usr/lib/python3/dist-packages (from tensorboard>=1.15.0->-r requirements.txt (line 7)) (45.2.0)\n",
      "Requirement already satisfied: tensorboard-data-server<0.8.0,>=0.7.0 in /home/manu/.local/lib/python3.8/site-packages (from tensorboard>=1.15.0->-r requirements.txt (line 7)) (0.7.0)\n",
      "Requirement already satisfied: grpcio>=1.48.2 in /home/manu/.local/lib/python3.8/site-packages (from tensorboard>=1.15.0->-r requirements.txt (line 7)) (1.51.3)\n",
      "Requirement already satisfied: google-auth-oauthlib<0.5,>=0.4.1 in /home/manu/.local/lib/python3.8/site-packages (from tensorboard>=1.15.0->-r requirements.txt (line 7)) (0.4.6)\n",
      "Requirement already satisfied: certifi>=2017.4.17 in /usr/lib/python3/dist-packages (from requests->torchvision>=0.2.1->-r requirements.txt (line 2)) (2019.11.28)\n",
      "Requirement already satisfied: charset-normalizer<3,>=2 in /home/manu/.local/lib/python3.8/site-packages (from requests->torchvision>=0.2.1->-r requirements.txt (line 2)) (2.1.1)\n",
      "Requirement already satisfied: idna<4,>=2.5 in /usr/lib/python3/dist-packages (from requests->torchvision>=0.2.1->-r requirements.txt (line 2)) (2.8)\n",
      "Requirement already satisfied: urllib3<1.27,>=1.21.1 in /usr/lib/python3/dist-packages (from requests->torchvision>=0.2.1->-r requirements.txt (line 2)) (1.25.8)\n",
      "Requirement already satisfied: cachetools<6.0,>=2.0.0 in /home/manu/.local/lib/python3.8/site-packages (from google-auth<3,>=1.6.3->tensorboard>=1.15.0->-r requirements.txt (line 7)) (5.3.0)\n",
      "Requirement already satisfied: rsa<5,>=3.1.4; python_version >= \"3.6\" in /home/manu/.local/lib/python3.8/site-packages (from google-auth<3,>=1.6.3->tensorboard>=1.15.0->-r requirements.txt (line 7)) (4.9)\n",
      "Requirement already satisfied: six>=1.9.0 in /usr/lib/python3/dist-packages (from google-auth<3,>=1.6.3->tensorboard>=1.15.0->-r requirements.txt (line 7)) (1.14.0)\n",
      "Requirement already satisfied: pyasn1-modules>=0.2.1 in /usr/lib/python3/dist-packages (from google-auth<3,>=1.6.3->tensorboard>=1.15.0->-r requirements.txt (line 7)) (0.2.1)\n",
      "Requirement already satisfied: MarkupSafe>=2.1.1 in /home/manu/.local/lib/python3.8/site-packages (from werkzeug>=1.0.1->tensorboard>=1.15.0->-r requirements.txt (line 7)) (2.1.1)\n",
      "Requirement already satisfied: importlib-metadata>=4.4; python_version < \"3.10\" in /home/manu/.local/lib/python3.8/site-packages (from markdown>=2.6.8->tensorboard>=1.15.0->-r requirements.txt (line 7)) (6.0.0)\n",
      "Requirement already satisfied: requests-oauthlib>=0.7.0 in /home/manu/.local/lib/python3.8/site-packages (from google-auth-oauthlib<0.5,>=0.4.1->tensorboard>=1.15.0->-r requirements.txt (line 7)) (1.3.1)\n",
      "Requirement already satisfied: pyasn1>=0.1.3 in /usr/lib/python3/dist-packages (from rsa<5,>=3.1.4; python_version >= \"3.6\"->google-auth<3,>=1.6.3->tensorboard>=1.15.0->-r requirements.txt (line 7)) (0.4.2)\n",
      "Requirement already satisfied: zipp>=0.5 in /home/manu/.local/lib/python3.8/site-packages (from importlib-metadata>=4.4; python_version < \"3.10\"->markdown>=2.6.8->tensorboard>=1.15.0->-r requirements.txt (line 7)) (3.11.0)\n",
      "Requirement already satisfied: oauthlib>=3.0.0 in /usr/lib/python3/dist-packages (from requests-oauthlib>=0.7.0->google-auth-oauthlib<0.5,>=0.4.1->tensorboard>=1.15.0->-r requirements.txt (line 7)) (3.1.0)\n"
     ]
    }
   ],
   "source": [
    "#!/usr/bin/python3\n",
    "\n",
    "# Check if pip is installed and get version\n",
    "!pip --version\n",
    "\n",
    "is_local_exec = True\n",
    "\n",
    "# If executing locally \n",
    "if(is_local_exec):\n",
    "    # Install the virtual environment not to break anything\n",
    "    !pip install virtualenv\n",
    "\n",
    "    virtual_environment_name = 'final_proj'   # Specify the name for the virtual environment\n",
    "\n",
    "    !virtualenv -p python3 {virtual_environment_name}\n",
    "\n",
    "    !source {virtual_environment_name}/bin/activate\n",
    "\n",
    "\n",
    "!pip install -r requirements.txt\n"
   ]
  },
  {
   "attachments": {},
   "cell_type": "markdown",
   "metadata": {},
   "source": [
    "Once the initial setup for the virtual environment is done, let's look at the code"
   ]
  }
 ],
 "metadata": {
  "kernelspec": {
   "display_name": "Python 3",
   "language": "python",
   "name": "python3"
  },
  "language_info": {
   "codemirror_mode": {
    "name": "ipython",
    "version": 3
   },
   "file_extension": ".py",
   "mimetype": "text/x-python",
   "name": "python",
   "nbconvert_exporter": "python",
   "pygments_lexer": "ipython3",
   "version": "3.8.10"
  },
  "orig_nbformat": 4
 },
 "nbformat": 4,
 "nbformat_minor": 2
}
